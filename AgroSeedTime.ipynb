{
  "nbformat": 4,
  "nbformat_minor": 0,
  "metadata": {
    "colab": {
      "provenance": [],
      "authorship_tag": "ABX9TyNptCVPTlorrvBkMQYItbSe",
      "include_colab_link": true
    },
    "kernelspec": {
      "name": "python3",
      "display_name": "Python 3"
    },
    "language_info": {
      "name": "python"
    }
  },
  "cells": [
    {
      "cell_type": "markdown",
      "metadata": {
        "id": "view-in-github",
        "colab_type": "text"
      },
      "source": [
        "<a href=\"https://colab.research.google.com/github/Johnson-hub1/ALX_BE_PY/blob/main/AgroSeedTime.ipynb\" target=\"_parent\"><img src=\"https://colab.research.google.com/assets/colab-badge.svg\" alt=\"Open In Colab\"/></a>"
      ]
    },
    {
      "cell_type": "code",
      "execution_count": null,
      "metadata": {
        "colab": {
          "base_uri": "https://localhost:8080/"
        },
        "id": "URuSbBQ-h5Fr",
        "outputId": "a4d8e750-3ea9-41c4-c0dd-97debe0911a6"
      },
      "outputs": [
        {
          "output_type": "stream",
          "name": "stdout",
          "text": [
            "🌾 Groundnut Planting Time Predictor 🌾\n",
            "\n",
            "Enter current temperature (°C): 5\n",
            "Enter soil moisture (%): 8\n",
            "Enter expected rainfall in next 3 days (mm): 3\n",
            "\n",
            "📡 Planting Advisory:\n",
            " - ⚠️ Conditions are not favorable yet. Monitor the weather and soil condition closely.\n",
            "\n",
            "✅ Recommendations:\n",
            " - Temperature is not ideal. Wait for a range between 25°C and 30°C.\n",
            " - Soil moisture should be between 50% and 70%. Consider irrigation or wait for rain.\n",
            " - Rainfall forecast is too low. Wait for more rain before planting.\n"
          ]
        }
      ],
      "source": [
        "#  # Groundnut Planting Time Predictor for Farmers\n",
        "\n",
        "def predict_groundnut_planting(temp, soil_moisture, rainfall_forecast):\n",
        "    planting_advice = \"\"\n",
        "    recommendations = []\n",
        "\n",
        "    # Temperature range for groundnut germination (ideal: 25°C–30°C)\n",
        "    if 25 <= temp <= 30:\n",
        "        temp_ok = True\n",
        "    else:\n",
        "        temp_ok = False\n",
        "        recommendations.append(\"Temperature is not ideal. Wait for a range between 25°C and 30°C.\")\n",
        "\n",
        "    # Soil moisture (ideal: 50%–70%)\n",
        "    if 50 <= soil_moisture <= 70:\n",
        "        moisture_ok = True\n",
        "    else:\n",
        "        moisture_ok = False\n",
        "        recommendations.append(\"Soil moisture should be between 50% and 70%. Consider irrigation or wait for rain.\")\n",
        "\n",
        "    # Rainfall forecast (minimum 10–20mm expected within next 3 days)\n",
        "    if rainfall_forecast >= 10:\n",
        "        rain_ok = True\n",
        "    else:\n",
        "        rain_ok = False\n",
        "        recommendations.append(\"Rainfall forecast is too low. Wait for more rain before planting.\")\n",
        "\n",
        "    # Final recommendation\n",
        "    if temp_ok and moisture_ok and rain_ok:\n",
        "        planting_advice = \"✅ Conditions are favorable. You can plant groundnut now!\"\n",
        "    else:\n",
        "        planting_advice = \"⚠️ Conditions are not favorable yet. Monitor the weather and soil condition closely.\"\n",
        "\n",
        "    return planting_advice, recommendations\n",
        "\n",
        "# Example usage\n",
        "if __name__ == \"__main__\":\n",
        "    print(\"🌾 Groundnut Planting Time Predictor 🌾\\n\")\n",
        "\n",
        "    # Get user input\n",
        "    temp = float(input(\"Enter current temperature (°C): \"))\n",
        "    soil_moisture = float(input(\"Enter soil moisture (%): \"))\n",
        "    rainfall_forecast = float(input(\"Enter expected rainfall in next 3 days (mm): \"))\n",
        "\n",
        "    # Get prediction\n",
        "    advice, tips = predict_groundnut_planting(temp, soil_moisture, rainfall_forecast)\n",
        "\n",
        "    # Display result\n",
        "    print(\"\\n📡 Planting Advisory:\")\n",
        "    print(f\" - {advice}\")\n",
        "\n",
        "    if tips:\n",
        "        print(\"\\n✅ Recommendations:\")\n",
        "        for tip in tips:\n",
        "            print(f\" - {tip}\")\n",
        "\n",
        "\n",
        "\n"
      ]
    }
  ]
}