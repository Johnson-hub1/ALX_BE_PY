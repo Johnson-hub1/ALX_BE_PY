{
  "nbformat": 4,
  "nbformat_minor": 0,
  "metadata": {
    "colab": {
      "provenance": [],
      "authorship_tag": "ABX9TyNMMo4nNmeq0SVDVpdzcuOi",
      "include_colab_link": true
    },
    "kernelspec": {
      "name": "python3",
      "display_name": "Python 3"
    },
    "language_info": {
      "name": "python"
    }
  },
  "cells": [
    {
      "cell_type": "markdown",
      "metadata": {
        "id": "view-in-github",
        "colab_type": "text"
      },
      "source": [
        "<a href=\"https://colab.research.google.com/github/Johnson-hub1/ALX_BE_PY/blob/main/Untitled0.ipynb\" target=\"_parent\"><img src=\"https://colab.research.google.com/assets/colab-badge.svg\" alt=\"Open In Colab\"/></a>"
      ]
    },
    {
      "cell_type": "code",
      "execution_count": 3,
      "metadata": {
        "colab": {
          "base_uri": "https://localhost:8080/"
        },
        "id": "URuSbBQ-h5Fr",
        "outputId": "c50122dd-042d-4130-db90-ecf64a56337c"
      },
      "outputs": [
        {
          "output_type": "stream",
          "name": "stdout",
          "text": [
            "Welcome to the Dress Code Recommender!\n",
            "Enter temperature in Celsius: 15\n",
            "Enter humidity percentage: 85\n",
            "Enter wind speed in km/h: 10\n",
            "Enter weather condition (e.g., sunny, rainy, snowy, cloudy): Light rain\n",
            "\n",
            "--- Dress Code Recommendation ---\n",
            "Recommended Clothing: Raincoat, Jacket, Waterproof shoes, Sweater or long-sleeved shirt\n",
            "Recommended Accessories: Umbrella\n",
            "-------------------------------\n",
            "\n"
          ]
        }
      ],
      "source": [
        "#"
      ]
    }
  ]
}